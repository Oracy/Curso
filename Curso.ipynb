{
 "cells": [
  {
   "cell_type": "code",
   "execution_count": null,
   "id": "21e57b95",
   "metadata": {},
   "outputs": [],
   "source": [
    "from functools import reduce"
   ]
  },
  {
   "cell_type": "code",
   "execution_count": null,
   "id": "b148651f",
   "metadata": {},
   "outputs": [],
   "source": [
    "def multiply_by_2(item):\n",
    "    return item*2\n",
    "\n",
    "\n",
    "def only_odd(item):\n",
    "    return item % 2 != 0\n",
    "\n",
    "\n",
    "def accumulator(accumulate, item):\n",
    "    print(accumulate, item)\n",
    "    return accumulate + item)"
   ]
  },
  {
   "cell_type": "code",
   "execution_count": null,
   "id": "5027d802",
   "metadata": {},
   "outputs": [],
   "source": [
    "my_list = [1, 2, 3]\n",
    "print(list(map(multiply_by_2, my_list)))"
   ]
  },
  {
   "cell_type": "code",
   "execution_count": null,
   "id": "dc2f1c1c",
   "metadata": {},
   "outputs": [],
   "source": [
    "my_list = [1, 2, 3, 4, 5, 6, 7, 8, 9]\n",
    "print(list(filter(only_odd, my_list)))"
   ]
  },
  {
   "cell_type": "code",
   "execution_count": null,
   "id": "40c1b5bd",
   "metadata": {},
   "outputs": [],
   "source": [
    "your_list = [10, 20, 30]\n",
    "print(list(zip(my_list, your_list)))"
   ]
  },
  {
   "cell_type": "code",
   "execution_count": null,
   "id": "005d53d6",
   "metadata": {},
   "outputs": [],
   "source": [
    "print(reduce(accumulator, my_list, 0))"
   ]
  },
  {
   "cell_type": "code",
   "execution_count": null,
   "id": "618c45ed",
   "metadata": {},
   "outputs": [],
   "source": [
    "# lambda param: action, param\n",
    "print(list(map(lambda item: item*2, my_list)))"
   ]
  },
  {
   "cell_type": "code",
   "execution_count": null,
   "id": "4a778801",
   "metadata": {},
   "outputs": [],
   "source": [
    "# lambda param: action, param\n",
    "print(list(filter(lambda item: item % 2 != 0, my_list)))"
   ]
  },
  {
   "cell_type": "code",
   "execution_count": null,
   "id": "444dc847",
   "metadata": {},
   "outputs": [],
   "source": [
    "# lambda param: action, param\n",
    "print(reduce(lambda acc, item: acc + item, my_list))"
   ]
  },
  {
   "cell_type": "code",
   "execution_count": null,
   "id": "d6eecf91",
   "metadata": {},
   "outputs": [],
   "source": [
    "# Execrcise\n",
    "def square(number):\n",
    "    return number ** 2\n",
    "\n",
    "# Square\n",
    "my_list = [5, 4, 3]\n",
    "print(list(map(square, my_list)))\n",
    "print(list(map(lambda item: item ** 2, my_list)))\n",
    "\n",
    "# List Sorting\n",
    "a = [(0, 2), (4, 3), (9, 9), (10, -1)]\n",
    "a.sort(key = lambda x: x[1])\n",
    "print(a)"
   ]
  },
  {
   "cell_type": "code",
   "execution_count": null,
   "id": "20760ecf",
   "metadata": {},
   "outputs": [],
   "source": [
    "# my_list = [ param for param in iterable]\n",
    "my_list = [ char for char in 'hello' ]\n",
    "my_list_2 = [ num for num in range(0, 100) ]\n",
    "my_list_3 = [ num * 2 for num in range(0, 100) ]\n",
    "my_list_4 = [ num ** 2 for num in range(0, 100) if num % 2 == 0 ]\n",
    "\n",
    "print(my_list)\n",
    "print(my_list_2)\n",
    "print(my_list_3)\n",
    "print(my_list_4)"
   ]
  },
  {
   "cell_type": "code",
   "execution_count": null,
   "id": "69d047fa",
   "metadata": {},
   "outputs": [],
   "source": [
    "simple_dict = {\n",
    "    'a': 1,\n",
    "    'b': 2\n",
    "}\n",
    "my_dict = { k: v ** 2 for k,v in simple_dict.items() if v % 2 == 0 }\n",
    "print(my_dict)"
   ]
  },
  {
   "cell_type": "code",
   "execution_count": null,
   "id": "ab87a40e",
   "metadata": {},
   "outputs": [],
   "source": [
    "my_dict_2 = { num: num * 2 for num in [1, 2, 3] }\n",
    "print(my_dict_2)"
   ]
  },
  {
   "cell_type": "code",
   "execution_count": null,
   "id": "ab8a5bb9",
   "metadata": {},
   "outputs": [],
   "source": [
    "some_list = ['a', 'b', 'c', 'b', 'd', 'm', 'n', 'n']\n",
    "duplicates = list(set([ x for x in some_list if some_list.count(x) > 1 ]))\n",
    "print(duplicates)"
   ]
  },
  {
   "cell_type": "markdown",
   "id": "2957b700",
   "metadata": {},
   "source": [
    "---\n",
    "# DECORATORS"
   ]
  },
  {
   "cell_type": "code",
   "execution_count": null,
   "id": "ee243b20",
   "metadata": {},
   "outputs": [],
   "source": [
    "# @classmethod\n",
    "# @staticmethod\n",
    "def hello(greet):\n",
    "    greet()\n",
    "    \n",
    "\n",
    "def greet():\n",
    "    print(\"Still Here\")\n",
    "\n",
    "\n",
    "a = hello(greet)\n",
    "print(a)"
   ]
  },
  {
   "cell_type": "code",
   "execution_count": null,
   "id": "403d45f0",
   "metadata": {},
   "outputs": [],
   "source": [
    "# High Order Function HOC\n",
    "def greet(func):\n",
    "    func()\n",
    "\n",
    "\n",
    "def greet2():\n",
    "    def func():\n",
    "        return 5\n",
    "    return func()\n",
    "\n",
    "\n",
    "greet2()"
   ]
  },
  {
   "cell_type": "code",
   "execution_count": null,
   "id": "fb3af105",
   "metadata": {},
   "outputs": [],
   "source": [
    "# Decorator\n",
    "def my_decorator(func):\n",
    "    def wrap_func():\n",
    "        print('********')\n",
    "        func()\n",
    "        print('********')\n",
    "    return wrap_func\n",
    "\n",
    "\n",
    "# @my_decorator\n",
    "def hello():\n",
    "    print('Hellooo')\n",
    "    \n",
    "\n",
    "@my_decorator\n",
    "def bye():\n",
    "    print('See ya later')\n",
    "\n",
    "\n",
    "my_decorator(hello)()\n",
    "print()\n",
    "bye()"
   ]
  },
  {
   "cell_type": "code",
   "execution_count": null,
   "id": "bcd3d12c",
   "metadata": {},
   "outputs": [],
   "source": [
    "# Decorator\n",
    "def my_decorator(func):\n",
    "    def wrap_func(*args, **kwargs):\n",
    "        print('********')\n",
    "        func(*args, **kwargs)\n",
    "        print('********')\n",
    "    return wrap_func\n",
    "\n",
    "\n",
    "@my_decorator\n",
    "def hello(greeting, emoji=':('):\n",
    "    print(greeting, emoji)\n",
    "    \n",
    "\n",
    "@my_decorator\n",
    "def bye():\n",
    "    print('See ya later')\n",
    "\n",
    "\n",
    "hello('Hiiiii')\n"
   ]
  },
  {
   "cell_type": "code",
   "execution_count": null,
   "id": "32ccdc59",
   "metadata": {},
   "outputs": [],
   "source": [
    "# Decorator\n",
    "from time import time\n",
    "\n",
    "\n",
    "def performance(fn):\n",
    "    def wrapper(*args, **kwargs):\n",
    "        t1 = time()\n",
    "        result = fn(*args, **kwargs)\n",
    "        t2 = time()\n",
    "        print(f'Took {t2-t1} ms')\n",
    "        return result\n",
    "    return wrapper\n",
    "\n",
    "\n",
    "@performance\n",
    "def long_time():\n",
    "    for i in range(100):\n",
    "        i * 5\n",
    "        \n",
    "\n",
    "long_time()"
   ]
  },
  {
   "cell_type": "code",
   "execution_count": null,
   "id": "9603587a",
   "metadata": {},
   "outputs": [],
   "source": [
    "# Create an @authenticated decorator that only allows the function to run is user1 has 'valid' set to True:\n",
    "user1 = {\n",
    "    'name': 'Sorna',\n",
    "    'valid': True #changing this will either run or not run the message_friends function.\n",
    "}\n",
    "\n",
    "def authenticated(fn):\n",
    "    def wrapper(*args, **kwargs):\n",
    "        if args[0]['valid']:\n",
    "            return fn(*args, **kwargs)\n",
    "    return wrapper\n",
    "\n",
    "        \n",
    "@authenticated\n",
    "def message_friends(user):\n",
    "    print('message has been sent')\n",
    "\n",
    "\n",
    "message_friends(user1)"
   ]
  },
  {
   "cell_type": "markdown",
   "id": "a7e1e0ef",
   "metadata": {},
   "source": [
    "---\n",
    "# ERROR HANDLING"
   ]
  },
  {
   "cell_type": "code",
   "execution_count": null,
   "id": "4d6b4b48",
   "metadata": {},
   "outputs": [],
   "source": [
    "# Error Handling\n",
    "def hoooohoooo(number):\n",
    "    5/number\n",
    "\n",
    "\n",
    "try:\n",
    "    hoooohoooo(0)\n",
    "except ZeroDivisionError:\n",
    "    print(\"Divisao por Zero\")"
   ]
  },
  {
   "cell_type": "code",
   "execution_count": null,
   "id": "adad8ac4",
   "metadata": {},
   "outputs": [],
   "source": [
    "console.log(Err.message)"
   ]
  },
  {
   "cell_type": "code",
   "execution_count": null,
   "id": "1b2c6eae",
   "metadata": {},
   "outputs": [],
   "source": [
    "while True:\n",
    "    try:\n",
    "        age = int(input(\"What is your age? \"))\n",
    "        1/age\n",
    "        print(age)\n",
    "    except ValueError:\n",
    "        print(\"You need to insert an int value\")\n",
    "    except ZeroDivisionError:\n",
    "        print(\"You need to insert a value higher then 0\")\n",
    "    else:\n",
    "        break"
   ]
  },
  {
   "cell_type": "code",
   "execution_count": null,
   "id": "65fe0ff1",
   "metadata": {},
   "outputs": [],
   "source": [
    "def sum(num1, num2):\n",
    "    try:\n",
    "        return num1 + num2\n",
    "    except TypeError as err:\n",
    "        return f'Please enter numbers, {err}'\n",
    "\n",
    "res = sum(1, '2')\n",
    "print(res)"
   ]
  },
  {
   "cell_type": "code",
   "execution_count": null,
   "id": "72e29bdc",
   "metadata": {},
   "outputs": [],
   "source": [
    "# while True:\n",
    "#     try:\n",
    "#         age = int(input(\"What is your age? \"))\n",
    "#         1/age\n",
    "#         raise Exception(\"Hey cut it out\")\n",
    "#     except ZeroDivisionError:\n",
    "#         print(\"You need to insert a value higher then 0\")\n",
    "#     else:\n",
    "#         break"
   ]
  },
  {
   "cell_type": "markdown",
   "id": "588be227",
   "metadata": {},
   "source": [
    "---\n",
    "\n",
    "# Generators"
   ]
  },
  {
   "cell_type": "code",
   "execution_count": null,
   "id": "106b7b6a",
   "metadata": {},
   "outputs": [],
   "source": [
    "@performance\n",
    "def make_list(num):\n",
    "    result = []\n",
    "    for i in  range(num):\n",
    "        result.append(i*2)\n",
    "    return result\n",
    "\n",
    "\n",
    "my_list = make_list(100)\n",
    "print(my_list)"
   ]
  },
  {
   "cell_type": "code",
   "execution_count": null,
   "id": "1f86ecde",
   "metadata": {},
   "outputs": [],
   "source": [
    "# Interable\n",
    "# Iterate\n",
    "# Generators\n",
    "@performance\n",
    "def generator_function(num):\n",
    "    for i in range(num):\n",
    "        yield i*2\n",
    "\n",
    "\n",
    "g = generator_function(1)\n",
    "# for item in generator_function(1000):\n",
    "#     print(item)\n",
    "print(next(g))\n",
    "print(next(g))\n",
    "print(next(g))"
   ]
  },
  {
   "cell_type": "code",
   "execution_count": null,
   "id": "9a23198a",
   "metadata": {},
   "outputs": [],
   "source": [
    "@performance\n",
    "def long_time():\n",
    "    print('1')\n",
    "    for i in range(10000000):\n",
    "        i*5\n",
    "\n",
    "        \n",
    "@performance\n",
    "def long_time2():\n",
    "    print('2')\n",
    "    for i in list(range(10000000)):\n",
    "        i*5"
   ]
  },
  {
   "cell_type": "code",
   "execution_count": null,
   "id": "197f17a1",
   "metadata": {},
   "outputs": [],
   "source": [
    "long_time()\n",
    "long_time2()"
   ]
  },
  {
   "cell_type": "code",
   "execution_count": null,
   "id": "c7162899",
   "metadata": {
    "scrolled": true
   },
   "outputs": [],
   "source": [
    "@performance\n",
    "def gen_fun(num):\n",
    "    for i in range(num):\n",
    "        yield i\n",
    "\n",
    "\n",
    "for item in gen_fun(100):\n",
    "    print(item)"
   ]
  },
  {
   "cell_type": "code",
   "execution_count": null,
   "id": "d9164214",
   "metadata": {},
   "outputs": [],
   "source": [
    "def special_for(iterable):\n",
    "    iterator = iter(iterable)\n",
    "    while True:\n",
    "        try:\n",
    "            print(iterator)\n",
    "            print(next(iterator)*2)\n",
    "        except StopIteration:\n",
    "            break\n",
    "            \n",
    "\n",
    "special_for([1, 2, 3])"
   ]
  },
  {
   "cell_type": "code",
   "execution_count": null,
   "id": "ad0b5e11",
   "metadata": {},
   "outputs": [],
   "source": [
    "class MyGen():\n",
    "    current = 0\n",
    "    def __init__(self, first, last):\n",
    "        self.first = first\n",
    "        self.last = last\n",
    "\n",
    "\n",
    "    def __iter__(self):\n",
    "        return self\n",
    "    \n",
    "    \n",
    "    def __next__(self):\n",
    "        if MyGen.current < self.last:\n",
    "            num = MyGen.current\n",
    "            MyGen.current +=1\n",
    "            return num\n",
    "        raise StopIteration"
   ]
  },
  {
   "cell_type": "code",
   "execution_count": null,
   "id": "e788bb8b",
   "metadata": {},
   "outputs": [],
   "source": [
    "gen = MyGen(0, 100)\n",
    "for i in gen:\n",
    "    print(i)"
   ]
  },
  {
   "cell_type": "code",
   "execution_count": null,
   "id": "f6298eb3",
   "metadata": {},
   "outputs": [],
   "source": [
    "@performance\n",
    "def fib_gen(number):\n",
    "    a = 0\n",
    "    b = 1\n",
    "    for i in range(number):\n",
    "        yield a\n",
    "        temp = a\n",
    "        a = b\n",
    "        b = temp + b\n",
    "        \n",
    "        \n",
    "@performance\n",
    "def fib_list(number):\n",
    "    a = 0\n",
    "    b = 1\n",
    "    res = []\n",
    "    for i in range(number):\n",
    "        res.append(a)\n",
    "        temp = a\n",
    "        a = b\n",
    "        b = temp + b\n",
    "    return res"
   ]
  },
  {
   "cell_type": "code",
   "execution_count": null,
   "id": "a9acf35a",
   "metadata": {
    "scrolled": true
   },
   "outputs": [],
   "source": [
    "for i in fib_gen(10000):\n",
    "    print(i)"
   ]
  },
  {
   "cell_type": "code",
   "execution_count": null,
   "id": "61447a29",
   "metadata": {},
   "outputs": [],
   "source": [
    "fib_list(10000)"
   ]
  },
  {
   "cell_type": "code",
   "execution_count": null,
   "id": "738d6b94",
   "metadata": {},
   "outputs": [],
   "source": [
    "'Hello' == \"Hello\""
   ]
  },
  {
   "cell_type": "code",
   "execution_count": null,
   "id": "56920491",
   "metadata": {},
   "outputs": [],
   "source": [
    "fruits = [\"apple\", \"banana\", \"cherry\", \"orange\", \"kiwi\", \"melon\", \"mango\"]"
   ]
  },
  {
   "cell_type": "code",
   "execution_count": null,
   "id": "8e6b44af",
   "metadata": {},
   "outputs": [],
   "source": [
    "fruits.insert(1, \"teste\")"
   ]
  },
  {
   "cell_type": "code",
   "execution_count": null,
   "id": "a87fe2fb",
   "metadata": {},
   "outputs": [],
   "source": [
    "fruits[3:6]"
   ]
  },
  {
   "cell_type": "code",
   "execution_count": null,
   "id": "36455324",
   "metadata": {},
   "outputs": [],
   "source": [
    "fruits = {\"apple\", \"banana\", \"cherry\"}\n",
    "more_fruits = [\"orange\", \"mango\", \"grapes\"]"
   ]
  },
  {
   "cell_type": "code",
   "execution_count": null,
   "id": "bb3682e2",
   "metadata": {},
   "outputs": [],
   "source": [
    "fruits.union(more_fruits)"
   ]
  },
  {
   "cell_type": "code",
   "execution_count": null,
   "id": "50063a4f",
   "metadata": {},
   "outputs": [],
   "source": [
    "# debugging\n",
    "# linting\n",
    "# ide / editor\n",
    "# read errors\n",
    "# pdb"
   ]
  },
  {
   "cell_type": "code",
   "execution_count": null,
   "id": "9c49e051",
   "metadata": {},
   "outputs": [],
   "source": [
    "import pdb"
   ]
  },
  {
   "cell_type": "code",
   "execution_count": null,
   "id": "d1e9e826",
   "metadata": {},
   "outputs": [],
   "source": [
    "def add(num1, num2):\n",
    "    pdb.set_trace()\n",
    "    return num1 + num2\n",
    "\n",
    "add(4, 'aaa')"
   ]
  },
  {
   "cell_type": "code",
   "execution_count": 125,
   "id": "7ca1646c",
   "metadata": {},
   "outputs": [],
   "source": [
    "from time import time\n",
    "from datetime import datetime, timedelta\n",
    "from functools import wraps\n",
    "\n",
    "def gen_cicle(to_wakeup, cicle_to_wakeup):\n",
    "    for cicle in range(0, 6):\n",
    "                date = to_wakeup - cicle_to_wakeup * cicle\n",
    "                to_wakeup_str = to_wakeup.strftime('%Y-%m-%d %H:%M:%S.%f')[11:-7]\n",
    "                if date != to_wakeup:\n",
    "                    yield f\"Dormir as: {date.strftime('%Y-%m-%d %H:%M:%S.%f')[11:-7]}, para acordar as: {to_wakeup_str}, sono total de: {to_wakeup - date}\"\n",
    "\n",
    "\n",
    "\n",
    "                    \n",
    "def performance(task_id):\n",
    "    def decorator(f):\n",
    "        @wraps(f)\n",
    "        def wrapper(*args, **kwargs):\n",
    "            t1 = time()\n",
    "            res = f(*args, **kwargs)\n",
    "            t2 = time()\n",
    "            print(f'{task_id} - Took { t2 - t1 } ms to execute')\n",
    "            return res\n",
    "        return wrapper\n",
    "    return decorator"
   ]
  },
  {
   "cell_type": "code",
   "execution_count": 126,
   "id": "701c3e71",
   "metadata": {},
   "outputs": [],
   "source": [
    "@performance(\"calculate_time\")\n",
    "def calculate_time():\n",
    "    to_wakeup = datetime(2022, 2, 6, 6, 30, 00)\n",
    "    cicle_to_wakeup = timedelta(minutes=90)\n",
    "    for gen in gen_cicle(to_wakeup, cicle_to_wakeup):\n",
    "        print(gen)"
   ]
  },
  {
   "cell_type": "code",
   "execution_count": 127,
   "id": "296d29db",
   "metadata": {},
   "outputs": [
    {
     "name": "stdout",
     "output_type": "stream",
     "text": [
      "Dormir as: 05:00:00, para acordar as: 06:30:00, sono total de: 1:30:00\n",
      "Dormir as: 03:30:00, para acordar as: 06:30:00, sono total de: 3:00:00\n",
      "Dormir as: 02:00:00, para acordar as: 06:30:00, sono total de: 4:30:00\n",
      "Dormir as: 00:30:00, para acordar as: 06:30:00, sono total de: 6:00:00\n",
      "Dormir as: 23:00:00, para acordar as: 06:30:00, sono total de: 7:30:00\n",
      "calculate_time - Took 0.0016756057739257812 ms to execute\n"
     ]
    },
    {
     "ename": "NameError",
     "evalue": "name 'result' is not defined",
     "output_type": "error",
     "traceback": [
      "\u001b[0;31m---------------------------------------------------------------------------\u001b[0m",
      "\u001b[0;31mNameError\u001b[0m                                 Traceback (most recent call last)",
      "Input \u001b[0;32mIn [127]\u001b[0m, in \u001b[0;36m<module>\u001b[0;34m\u001b[0m\n\u001b[0;32m----> 1\u001b[0m \u001b[43mcalculate_time\u001b[49m\u001b[43m(\u001b[49m\u001b[43m)\u001b[49m\n",
      "Input \u001b[0;32mIn [125]\u001b[0m, in \u001b[0;36mperformance.<locals>.decorator.<locals>.wrapper\u001b[0;34m(*args, **kwargs)\u001b[0m\n\u001b[1;32m     21\u001b[0m t2 \u001b[38;5;241m=\u001b[39m time()\n\u001b[1;32m     22\u001b[0m \u001b[38;5;28mprint\u001b[39m(\u001b[38;5;124mf\u001b[39m\u001b[38;5;124m'\u001b[39m\u001b[38;5;132;01m{\u001b[39;00mtask_id\u001b[38;5;132;01m}\u001b[39;00m\u001b[38;5;124m - Took \u001b[39m\u001b[38;5;132;01m{\u001b[39;00m t2 \u001b[38;5;241m-\u001b[39m t1 \u001b[38;5;132;01m}\u001b[39;00m\u001b[38;5;124m ms to execute\u001b[39m\u001b[38;5;124m'\u001b[39m)\n\u001b[0;32m---> 23\u001b[0m \u001b[38;5;28;01mreturn\u001b[39;00m \u001b[43mresult\u001b[49m\n",
      "\u001b[0;31mNameError\u001b[0m: name 'result' is not defined"
     ]
    }
   ],
   "source": [
    "calculate_time()"
   ]
  },
  {
   "cell_type": "code",
   "execution_count": 93,
   "id": "b18badf4",
   "metadata": {},
   "outputs": [],
   "source": [
    "def fnc_minha(arg):\n",
    "    print(arg)"
   ]
  },
  {
   "cell_type": "code",
   "execution_count": 94,
   "id": "07e5cac0",
   "metadata": {},
   "outputs": [
    {
     "name": "stdout",
     "output_type": "stream",
     "text": [
      "arg\n"
     ]
    }
   ],
   "source": [
    "fnc_minha(\"arg\")"
   ]
  }
 ],
 "metadata": {
  "kernelspec": {
   "display_name": "Python 3 (ipykernel)",
   "language": "python",
   "name": "python3"
  },
  "language_info": {
   "codemirror_mode": {
    "name": "ipython",
    "version": 3
   },
   "file_extension": ".py",
   "mimetype": "text/x-python",
   "name": "python",
   "nbconvert_exporter": "python",
   "pygments_lexer": "ipython3",
   "version": "3.8.10"
  }
 },
 "nbformat": 4,
 "nbformat_minor": 5
}
