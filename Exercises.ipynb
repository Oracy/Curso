{
 "cells": [
  {
   "cell_type": "markdown",
   "id": "67f7b075",
   "metadata": {},
   "source": [
    "### Question 1\n",
    "> **_Write a program which will find all such numbers which are divisible by 7 but are not a multiple of 5,\n",
    "> between 2000 and 3200 (both included).The numbers obtained should be printed in a comma-separated sequence on a single line._**"
   ]
  },
  {
   "cell_type": "code",
   "execution_count": null,
   "id": "68427ba9",
   "metadata": {},
   "outputs": [],
   "source": [
    "def gen_find_divisible_numers(start, end):\n",
    "    for number in range(start, end):\n",
    "        if number % 7 == 0 and number % 5 != 0:\n",
    "            yield number"
   ]
  },
  {
   "cell_type": "code",
   "execution_count": null,
   "id": "2e241b18",
   "metadata": {},
   "outputs": [],
   "source": [
    "res = []\n",
    "for gen in gen_find_divisible_numers(2000, 3201):\n",
    "    res.append(str(gen))\n",
    "print(', '.join(res))"
   ]
  },
  {
   "cell_type": "markdown",
   "id": "fb7eecb0",
   "metadata": {},
   "source": [
    "### Question 2\n",
    "\n",
    "> **_Write a program which can compute the factorial of a given numbers.The results should be printed in a comma-separated sequence on a single line.Suppose the following input is supplied to the program: 8\n",
    "> Then, the output should be:40320_**"
   ]
  },
  {
   "cell_type": "code",
   "execution_count": null,
   "id": "7a29270d",
   "metadata": {},
   "outputs": [],
   "source": [
    "def factorial(number):\n",
    "    res = 1\n",
    "    for n in range(1, number + 1):\n",
    "        res = n * res\n",
    "    return res"
   ]
  },
  {
   "cell_type": "code",
   "execution_count": null,
   "id": "022ea20a",
   "metadata": {},
   "outputs": [],
   "source": [
    "n = 10\n",
    "print(f\"{n}! = {factorial(n)}\")"
   ]
  },
  {
   "cell_type": "markdown",
   "id": "ca094707",
   "metadata": {},
   "source": [
    "### Question 3\n",
    "> **_With a given integral number n, write a program to generate a dictionary that contains (i, i x i) such that is an integral number between 1 and n (both included). and then the program should print the dictionary.Suppose the following input is supplied to the program: 8_**\n",
    "> **_Then, the output should be:_**\n",
    "{1: 1, 2: 4, 3: 9, 4: 16, 5: 25, 6: 36, 7: 49, 8: 64}"
   ]
  },
  {
   "cell_type": "code",
   "execution_count": null,
   "id": "4609d9db",
   "metadata": {},
   "outputs": [],
   "source": [
    "def gen_dict(start, end):\n",
    "    dict_data = {}\n",
    "    for n in range(start, end + 1):\n",
    "        dict_data[n] = n * n\n",
    "    \n",
    "    return dict_data\n",
    "\n",
    "\n",
    "print(gen_dict(1, 8))"
   ]
  },
  {
   "cell_type": "markdown",
   "id": "4857585d",
   "metadata": {},
   "source": [
    "### Question 4\n",
    "\n",
    "> **_Write a program which accepts a sequence of comma-separated numbers from console and generate a list and a tuple which contains every number.Suppose the following input is supplied to the program:_**\n",
    "\n",
    "```\n",
    "34,67,55,33,12,98\n",
    "```\n",
    "\n",
    "> **_Then, the output should be:_**\n",
    "\n",
    "```\n",
    "['34', '67', '55', '33', '12', '98']\n",
    "('34', '67', '55', '33', '12', '98')\n",
    "```"
   ]
  },
  {
   "cell_type": "code",
   "execution_count": null,
   "id": "544413fc",
   "metadata": {},
   "outputs": [],
   "source": [
    "print(tuple(input(\"Enter a series of numbers separated by a comma :\").split(',')))"
   ]
  },
  {
   "cell_type": "code",
   "execution_count": 1,
   "id": "79f286a1",
   "metadata": {},
   "outputs": [
    {
     "name": "stdout",
     "output_type": "stream",
     "text": [
      "Enter numbers separated by a comma: 1, 2, 3, 4, 5, 6, 7, 8, 9\n"
     ]
    }
   ],
   "source": [
    "number_list = input(\"Enter numbers separated by a comma: \")"
   ]
  },
  {
   "cell_type": "code",
   "execution_count": 8,
   "id": "65fb2248",
   "metadata": {},
   "outputs": [],
   "source": [
    "def to_list(number_list):\n",
    "    return number_list.split()\n",
    "\n",
    "\n",
    "def to_tuple(number_list):\n",
    "    return tuple(number_list.split())"
   ]
  },
  {
   "cell_type": "code",
   "execution_count": 15,
   "id": "3db75400",
   "metadata": {},
   "outputs": [
    {
     "name": "stdout",
     "output_type": "stream",
     "text": [
      "['1', '2', '3', '4', '5', '6', '7', '8', '9']\n",
      "('1', '2', '3', '4', '5', '6', '7', '8', '9')\n"
     ]
    }
   ],
   "source": [
    "print(to_list(number_list.replace(\",\", \"\")))\n",
    "print(to_tuple(number_list.replace(\",\", \"\")))"
   ]
  },
  {
   "cell_type": "markdown",
   "id": "4581d065",
   "metadata": {},
   "source": [
    "### Question 5\n",
    "\n",
    "> **_Define a class which has at least two methods:_**\n",
    ">\n",
    "> - **_getString: to get a string from console input_**\n",
    "> - **_printString: to print the string in upper case._**\n",
    "\n",
    "> **_Also please include simple test function to test the class methods._**"
   ]
  },
  {
   "cell_type": "code",
   "execution_count": null,
   "id": "ba49fe38",
   "metadata": {},
   "outputs": [],
   "source": []
  }
 ],
 "metadata": {
  "kernelspec": {
   "display_name": "Python 3 (ipykernel)",
   "language": "python",
   "name": "python3"
  },
  "language_info": {
   "codemirror_mode": {
    "name": "ipython",
    "version": 3
   },
   "file_extension": ".py",
   "mimetype": "text/x-python",
   "name": "python",
   "nbconvert_exporter": "python",
   "pygments_lexer": "ipython3",
   "version": "3.8.10"
  }
 },
 "nbformat": 4,
 "nbformat_minor": 5
}
